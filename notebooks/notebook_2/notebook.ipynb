{
 "cells": [
  {
   "metadata": {
    "collapsed": true,
    "ExecuteTime": {
     "end_time": "2025-02-24T05:49:56.515235Z",
     "start_time": "2025-02-24T05:49:56.511250Z"
    }
   },
   "cell_type": "code",
   "source": [
    "import numpy as np\n",
    "import pandas as pd\n",
    "from sklearn.model_selection import train_test_split"
   ],
   "id": "initial_id",
   "outputs": [],
   "execution_count": 26
  },
  {
   "metadata": {},
   "cell_type": "markdown",
   "source": "## Load in the data",
   "id": "17e2860d8c40b144"
  },
  {
   "metadata": {
    "ExecuteTime": {
     "end_time": "2025-02-24T05:50:28.485495Z",
     "start_time": "2025-02-24T05:49:56.578814Z"
    }
   },
   "cell_type": "code",
   "source": [
    "properties_data_types = {22: 'boolean', 32: 'string', 34: 'string', 49: \"string\", 55: 'string'}\n",
    "properties_2016 = pd.read_csv('../../data/properties_2016.csv', dtype=properties_data_types)\n",
    "properties_2017 = pd.read_csv('../../data/properties_2017.csv', dtype=properties_data_types)\n",
    "train_2016 = pd.read_csv('../../data/train_2016_v2.csv')\n",
    "train_2017 = pd.read_csv('../../data/train_2017.csv')\n"
   ],
   "id": "a8f43887f95b8a02",
   "outputs": [],
   "execution_count": 27
  },
  {
   "metadata": {},
   "cell_type": "markdown",
   "source": "## Merge data using parcelid",
   "id": "876b9bf4a74507c9"
  },
  {
   "metadata": {
    "ExecuteTime": {
     "end_time": "2025-02-24T05:50:35.892185Z",
     "start_time": "2025-02-24T05:50:28.491438Z"
    }
   },
   "cell_type": "code",
   "source": [
    "merged_2016_data = pd.merge(train_2016, properties_2016, how='left', on='parcelid')\n",
    "merged_2017_data = pd.merge(train_2017, properties_2017, how='left', on='parcelid')"
   ],
   "id": "cca431a25541d296",
   "outputs": [],
   "execution_count": 28
  },
  {
   "metadata": {},
   "cell_type": "markdown",
   "source": "## Split the data into test data, and train data",
   "id": "c864e5fe337c8df9"
  },
  {
   "metadata": {
    "ExecuteTime": {
     "end_time": "2025-02-24T05:50:42.843779Z",
     "start_time": "2025-02-24T05:50:35.928670Z"
    }
   },
   "cell_type": "code",
   "source": [
    "test_2016, train_2016 = train_test_split(merged_2016_data, test_size=0.2, random_state=42)\n",
    "test_2017, train_2017 = train_test_split(merged_2017_data, test_size=0.2, random_state=42)"
   ],
   "id": "81cf985f0b9db5d4",
   "outputs": [],
   "execution_count": 29
  },
  {
   "metadata": {},
   "cell_type": "markdown",
   "source": "## Create the isnull() tables for the test data",
   "id": "f83c2d53f063e32a"
  },
  {
   "metadata": {
    "ExecuteTime": {
     "end_time": "2025-02-24T05:50:43.174870Z",
     "start_time": "2025-02-24T05:50:42.938140Z"
    }
   },
   "cell_type": "code",
   "source": [
    "def create_null_table(data):\n",
    "    null_table = data.isnull()\n",
    "    return null_table\n",
    "\n",
    "null_2016_train = create_null_table(train_2016)\n",
    "null_2017_train = create_null_table(train_2017)\n",
    "print(null_2016_train)\n"
   ],
   "id": "e34ec67bf9cb41a4",
   "outputs": [
    {
     "name": "stdout",
     "output_type": "stream",
     "text": [
      "         parcelid  logerror  transactiondate  airconditioningtypeid  \\\n",
      "1800212     False      True             True                   True   \n",
      "2757531     False      True             True                   True   \n",
      "2933116     False      True             True                  False   \n",
      "865692      False      True             True                   True   \n",
      "1262059     False      True             True                   True   \n",
      "...           ...       ...              ...                    ...   \n",
      "659945      False      True             True                   True   \n",
      "1587258     False      True             True                   True   \n",
      "310537      False      True             True                   True   \n",
      "1242488     False      True             True                  False   \n",
      "385920      False      True             True                  False   \n",
      "\n",
      "         architecturalstyletypeid  basementsqft  bathroomcnt  bedroomcnt  \\\n",
      "1800212                      True          True        False       False   \n",
      "2757531                      True          True        False       False   \n",
      "2933116                      True          True        False       False   \n",
      "865692                       True          True        False       False   \n",
      "1262059                      True          True        False       False   \n",
      "...                           ...           ...          ...         ...   \n",
      "659945                       True          True        False       False   \n",
      "1587258                      True          True        False       False   \n",
      "310537                       True          True        False       False   \n",
      "1242488                      True          True        False       False   \n",
      "385920                       True          True        False       False   \n",
      "\n",
      "         buildingclasstypeid  buildingqualitytypeid  ...  numberofstories  \\\n",
      "1800212                 True                   True  ...            False   \n",
      "2757531                 True                  False  ...             True   \n",
      "2933116                 True                  False  ...             True   \n",
      "865692                  True                  False  ...             True   \n",
      "1262059                 True                   True  ...            False   \n",
      "...                      ...                    ...  ...              ...   \n",
      "659945                  True                  False  ...             True   \n",
      "1587258                 True                   True  ...            False   \n",
      "310537                  True                   True  ...             True   \n",
      "1242488                 True                  False  ...             True   \n",
      "385920                  True                  False  ...             True   \n",
      "\n",
      "         fireplaceflag  structuretaxvaluedollarcnt  taxvaluedollarcnt  \\\n",
      "1800212           True                       False              False   \n",
      "2757531           True                       False              False   \n",
      "2933116           True                       False              False   \n",
      "865692            True                       False              False   \n",
      "1262059           True                       False              False   \n",
      "...                ...                         ...                ...   \n",
      "659945            True                       False              False   \n",
      "1587258           True                       False              False   \n",
      "310537            True                       False              False   \n",
      "1242488           True                       False              False   \n",
      "385920            True                       False              False   \n",
      "\n",
      "         assessmentyear  landtaxvaluedollarcnt  taxamount  taxdelinquencyflag  \\\n",
      "1800212           False                  False      False                True   \n",
      "2757531           False                  False      False                True   \n",
      "2933116           False                  False      False                True   \n",
      "865692            False                  False      False                True   \n",
      "1262059           False                  False      False                True   \n",
      "...                 ...                    ...        ...                 ...   \n",
      "659945            False                  False      False                True   \n",
      "1587258           False                  False      False                True   \n",
      "310537            False                  False      False                True   \n",
      "1242488           False                  False      False                True   \n",
      "385920            False                  False      False                True   \n",
      "\n",
      "         taxdelinquencyyear  censustractandblock  \n",
      "1800212                True                False  \n",
      "2757531                True                False  \n",
      "2933116                True                False  \n",
      "865692                 True                False  \n",
      "1262059                True                False  \n",
      "...                     ...                  ...  \n",
      "659945                 True                False  \n",
      "1587258                True                False  \n",
      "310537                 True                False  \n",
      "1242488                True                False  \n",
      "385920                 True                False  \n",
      "\n",
      "[597069 rows x 60 columns]\n"
     ]
    }
   ],
   "execution_count": 30
  },
  {
   "metadata": {},
   "cell_type": "markdown",
   "source": "## Create null count field",
   "id": "8fc5ef376423b2de"
  },
  {
   "metadata": {
    "ExecuteTime": {
     "end_time": "2025-02-24T05:50:43.500696Z",
     "start_time": "2025-02-24T05:50:43.273610Z"
    }
   },
   "cell_type": "code",
   "source": [
    "def add_null_count_field(data, null_table):\n",
    "    null_count_field = null_table.sum(axis=1)\n",
    "    data['null_count'] = null_count_field\n",
    "    return data\n",
    "\n",
    "train_2016 = add_null_count_field(train_2016, null_2016_train)\n",
    "train_2017 = add_null_count_field(train_2017, null_2017_train)"
   ],
   "id": "3e479fa6491f1940",
   "outputs": [
    {
     "name": "stdout",
     "output_type": "stream",
     "text": [
      "         parcelid  logerror transactiondate  airconditioningtypeid  \\\n",
      "1800212  17068081       NaN             NaN                    NaN   \n",
      "2757531  12273924       NaN             NaN                    NaN   \n",
      "2933116  11455095       NaN             NaN                    1.0   \n",
      "865692   11233709       NaN             NaN                    NaN   \n",
      "1262059  14451959       NaN             NaN                    NaN   \n",
      "...           ...       ...             ...                    ...   \n",
      "147491   14139927       NaN             NaN                    NaN   \n",
      "2347230  14439127       NaN             NaN                   13.0   \n",
      "1871908  14447812    0.0611      2016-04-18                    NaN   \n",
      "2516721  11435750       NaN             NaN                    NaN   \n",
      "2179306  12626276       NaN             NaN                    NaN   \n",
      "\n",
      "         architecturalstyletypeid  basementsqft  bathroomcnt  bedroomcnt  \\\n",
      "1800212                       NaN           NaN          1.5         2.0   \n",
      "2757531                       NaN           NaN          2.0         3.0   \n",
      "2933116                       NaN           NaN          2.0         2.0   \n",
      "865692                        NaN           NaN          1.0         3.0   \n",
      "1262059                       NaN           NaN          2.0         4.0   \n",
      "...                           ...           ...          ...         ...   \n",
      "147491                        NaN           NaN          4.5         4.0   \n",
      "2347230                       NaN           NaN          2.5         4.0   \n",
      "1871908                       NaN           NaN          2.5         3.0   \n",
      "2516721                       NaN           NaN          1.0         3.0   \n",
      "2179306                       NaN           NaN          1.0         2.0   \n",
      "\n",
      "         buildingclasstypeid  buildingqualitytypeid  ...  fireplaceflag  \\\n",
      "1800212                  NaN                    NaN  ...           <NA>   \n",
      "2757531                  NaN                    7.0  ...           <NA>   \n",
      "2933116                  NaN                    4.0  ...           <NA>   \n",
      "865692                   NaN                    7.0  ...           <NA>   \n",
      "1262059                  NaN                    NaN  ...           <NA>   \n",
      "...                      ...                    ...  ...            ...   \n",
      "147491                   NaN                    NaN  ...           <NA>   \n",
      "2347230                  NaN                    NaN  ...           <NA>   \n",
      "1871908                  NaN                    NaN  ...           <NA>   \n",
      "2516721                  NaN                    7.0  ...           <NA>   \n",
      "2179306                  NaN                    7.0  ...           <NA>   \n",
      "\n",
      "         structuretaxvaluedollarcnt  taxvaluedollarcnt  assessmentyear  \\\n",
      "1800212                     96399.0           397668.0          2015.0   \n",
      "2757531                     69809.0           144989.0          2015.0   \n",
      "2933116                    154305.0           262298.0          2015.0   \n",
      "865692                      85279.0           122588.0          2015.0   \n",
      "1262059                     58887.0           248800.0          2015.0   \n",
      "...                             ...                ...             ...   \n",
      "147491                     495642.0           816071.0          2015.0   \n",
      "2347230                    246245.0           940000.0          2015.0   \n",
      "1871908                    321513.0          1060000.0          2015.0   \n",
      "2516721                     66886.0           334431.0          2015.0   \n",
      "2179306                     69570.0           240781.0          2015.0   \n",
      "\n",
      "         landtaxvaluedollarcnt  taxamount  taxdelinquencyflag  \\\n",
      "1800212               301269.0    4162.82                <NA>   \n",
      "2757531                75180.0    2213.57                <NA>   \n",
      "2933116               107993.0    4134.03                <NA>   \n",
      "865692                 37309.0    1567.50                <NA>   \n",
      "1262059               189913.0    2576.30                <NA>   \n",
      "...                        ...        ...                 ...   \n",
      "147491                320429.0   10611.64                <NA>   \n",
      "2347230               693755.0   10422.88                <NA>   \n",
      "1871908               738487.0   11954.46                <NA>   \n",
      "2516721               267545.0    4316.33                <NA>   \n",
      "2179306               171211.0    3093.75                <NA>   \n",
      "\n",
      "         taxdelinquencyyear  censustractandblock  null_count  \n",
      "1800212                 NaN         6.111001e+13          29  \n",
      "2757531                 NaN         6.037541e+13          31  \n",
      "2933116                 NaN         6.037276e+13          27  \n",
      "865692                  NaN         6.037911e+13          32  \n",
      "1262059                 NaN         6.059042e+13          32  \n",
      "...                     ...                  ...         ...  \n",
      "147491                  NaN         6.059002e+13          32  \n",
      "2347230                 NaN         6.059042e+13          30  \n",
      "1871908                 NaN         6.059042e+13          30  \n",
      "2516721                 NaN         6.037604e+13          30  \n",
      "2179306                 NaN         6.037294e+13          30  \n",
      "\n",
      "[100 rows x 61 columns]\n"
     ]
    }
   ],
   "execution_count": 31
  }
 ],
 "metadata": {
  "kernelspec": {
   "display_name": "Python 3",
   "language": "python",
   "name": "python3"
  },
  "language_info": {
   "codemirror_mode": {
    "name": "ipython",
    "version": 2
   },
   "file_extension": ".py",
   "mimetype": "text/x-python",
   "name": "python",
   "nbconvert_exporter": "python",
   "pygments_lexer": "ipython2",
   "version": "2.7.6"
  }
 },
 "nbformat": 4,
 "nbformat_minor": 5
}
